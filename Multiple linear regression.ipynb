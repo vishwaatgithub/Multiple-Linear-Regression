{
 "cells": [
  {
   "cell_type": "code",
   "execution_count": 1,
   "id": "af5c7682",
   "metadata": {},
   "outputs": [],
   "source": [
    "from sklearn .datasets import make_regression\n",
    "import pandas as pd\n",
    "import numpy as np\n",
    "from sklearn.metrics import mean_absolute_error,mean_squared_error,r2_score"
   ]
  },
  {
   "cell_type": "code",
   "execution_count": 2,
   "id": "f76acd1e",
   "metadata": {},
   "outputs": [],
   "source": [
    "X,y = make_regression(n_samples=100, n_features=2, n_targets=1, noise=20)"
   ]
  },
  {
   "cell_type": "code",
   "execution_count": 3,
   "id": "bf5224fa",
   "metadata": {},
   "outputs": [],
   "source": [
    "df=pd.DataFrame({'feature1':X[:,0],'feature2':X[:,1],'target':y})"
   ]
  },
  {
   "cell_type": "code",
   "execution_count": 4,
   "id": "e50090cf",
   "metadata": {},
   "outputs": [
    {
     "data": {
      "text/html": [
       "<div>\n",
       "<style scoped>\n",
       "    .dataframe tbody tr th:only-of-type {\n",
       "        vertical-align: middle;\n",
       "    }\n",
       "\n",
       "    .dataframe tbody tr th {\n",
       "        vertical-align: top;\n",
       "    }\n",
       "\n",
       "    .dataframe thead th {\n",
       "        text-align: right;\n",
       "    }\n",
       "</style>\n",
       "<table border=\"1\" class=\"dataframe\">\n",
       "  <thead>\n",
       "    <tr style=\"text-align: right;\">\n",
       "      <th></th>\n",
       "      <th>feature1</th>\n",
       "      <th>feature2</th>\n",
       "      <th>target</th>\n",
       "    </tr>\n",
       "  </thead>\n",
       "  <tbody>\n",
       "    <tr>\n",
       "      <th>0</th>\n",
       "      <td>0.479063</td>\n",
       "      <td>-0.818794</td>\n",
       "      <td>9.153305</td>\n",
       "    </tr>\n",
       "    <tr>\n",
       "      <th>1</th>\n",
       "      <td>0.656884</td>\n",
       "      <td>-0.675102</td>\n",
       "      <td>11.872685</td>\n",
       "    </tr>\n",
       "    <tr>\n",
       "      <th>2</th>\n",
       "      <td>-0.279163</td>\n",
       "      <td>0.813904</td>\n",
       "      <td>29.057144</td>\n",
       "    </tr>\n",
       "    <tr>\n",
       "      <th>3</th>\n",
       "      <td>-0.150147</td>\n",
       "      <td>-0.353596</td>\n",
       "      <td>30.454777</td>\n",
       "    </tr>\n",
       "    <tr>\n",
       "      <th>4</th>\n",
       "      <td>-0.498173</td>\n",
       "      <td>0.416148</td>\n",
       "      <td>39.000071</td>\n",
       "    </tr>\n",
       "    <tr>\n",
       "      <th>...</th>\n",
       "      <td>...</td>\n",
       "      <td>...</td>\n",
       "      <td>...</td>\n",
       "    </tr>\n",
       "    <tr>\n",
       "      <th>95</th>\n",
       "      <td>0.194166</td>\n",
       "      <td>0.903879</td>\n",
       "      <td>13.252059</td>\n",
       "    </tr>\n",
       "    <tr>\n",
       "      <th>96</th>\n",
       "      <td>1.032998</td>\n",
       "      <td>0.797496</td>\n",
       "      <td>7.988824</td>\n",
       "    </tr>\n",
       "    <tr>\n",
       "      <th>97</th>\n",
       "      <td>0.264073</td>\n",
       "      <td>-0.937481</td>\n",
       "      <td>34.748717</td>\n",
       "    </tr>\n",
       "    <tr>\n",
       "      <th>98</th>\n",
       "      <td>-0.118521</td>\n",
       "      <td>-0.890010</td>\n",
       "      <td>-13.673062</td>\n",
       "    </tr>\n",
       "    <tr>\n",
       "      <th>99</th>\n",
       "      <td>0.458703</td>\n",
       "      <td>0.451801</td>\n",
       "      <td>36.865154</td>\n",
       "    </tr>\n",
       "  </tbody>\n",
       "</table>\n",
       "<p>100 rows × 3 columns</p>\n",
       "</div>"
      ],
      "text/plain": [
       "    feature1  feature2     target\n",
       "0   0.479063 -0.818794   9.153305\n",
       "1   0.656884 -0.675102  11.872685\n",
       "2  -0.279163  0.813904  29.057144\n",
       "3  -0.150147 -0.353596  30.454777\n",
       "4  -0.498173  0.416148  39.000071\n",
       "..       ...       ...        ...\n",
       "95  0.194166  0.903879  13.252059\n",
       "96  1.032998  0.797496   7.988824\n",
       "97  0.264073 -0.937481  34.748717\n",
       "98 -0.118521 -0.890010 -13.673062\n",
       "99  0.458703  0.451801  36.865154\n",
       "\n",
       "[100 rows x 3 columns]"
      ]
     },
     "execution_count": 4,
     "metadata": {},
     "output_type": "execute_result"
    }
   ],
   "source": [
    "df"
   ]
  },
  {
   "cell_type": "code",
   "execution_count": 5,
   "id": "52137091",
   "metadata": {},
   "outputs": [],
   "source": [
    "import matplotlib.pyplot as plt"
   ]
  },
  {
   "cell_type": "code",
   "execution_count": 6,
   "id": "38d268de",
   "metadata": {},
   "outputs": [
    {
     "data": {
      "text/plain": [
       "<matplotlib.collections.PathCollection at 0x16b67dc6be0>"
      ]
     },
     "execution_count": 6,
     "metadata": {},
     "output_type": "execute_result"
    },
    {
     "data": {
      "image/png": "[encoded data removed]",
      "text/plain": [
       "<Figure size 432x288 with 1 Axes>"
      ]
     },
     "metadata": {
      "needs_background": "light"
     },
     "output_type": "display_data"
    }
   ],
   "source": [
    "plt.scatter(df['feature1'],df['target'])"
   ]
  },
  {
   "cell_type": "code",
   "execution_count": 7,
   "id": "98d952d8",
   "metadata": {},
   "outputs": [
    {
     "data": {
      "text/plain": [
       "<matplotlib.collections.PathCollection at 0x16b6856b520>"
      ]
     },
     "execution_count": 7,
     "metadata": {},
     "output_type": "execute_result"
    },
    {
     "data": {
      "image/png": "[encoded data removed]",
      "text/plain": [
       "<Figure size 432x288 with 1 Axes>"
      ]
     },
     "metadata": {
      "needs_background": "light"
     },
     "output_type": "display_data"
    }
   ],
   "source": [
    "plt.scatter(df['feature2'],df['target'])"
   ]
  },
  {
   "cell_type": "code",
   "execution_count": 8,
   "id": "8f163fbc",
   "metadata": {},
   "outputs": [
    {
     "data": {
      "text/plain": [
       "array([[ 0.47906264, -0.81879437],\n",
       "       [ 0.65688354, -0.67510159],\n",
       "       [-0.2791631 ,  0.81390368],\n",
       "       [-0.15014658, -0.3535955 ],\n",
       "       [-0.49817334,  0.41614796],\n",
       "       [-1.22809759, -1.2230405 ],\n",
       "       [-0.44765552,  1.53521262],\n",
       "       [-0.79964833,  1.63410041],\n",
       "       [-0.247337  , -0.99306072],\n",
       "       [-0.04227453,  1.1926463 ],\n",
       "       [-0.46575702,  0.32900559],\n",
       "       [ 0.81539359,  1.05314512],\n",
       "       [ 0.60674816, -0.19045854],\n",
       "       [-0.52465208,  0.41189111],\n",
       "       [ 0.60293343,  1.5004547 ],\n",
       "       [ 0.55170646,  2.36886027],\n",
       "       [-0.52275038, -0.33469074],\n",
       "       [ 1.80531815,  0.37967534],\n",
       "       [-0.26708427,  1.52167199],\n",
       "       [ 0.08270514,  0.48658444],\n",
       "       [ 0.71190184,  0.69985325],\n",
       "       [ 0.24052537,  0.25363556],\n",
       "       [-2.30529661, -1.68279226],\n",
       "       [ 0.06011282,  0.65295834],\n",
       "       [-1.35733546,  0.46514529],\n",
       "       [ 0.39054246, -0.55356081],\n",
       "       [-0.5470777 , -0.09175869],\n",
       "       [ 1.67752844, -0.84765087],\n",
       "       [ 1.75472391, -1.38303687],\n",
       "       [-1.75881756, -0.09457632],\n",
       "       [ 0.05515505,  0.53383052],\n",
       "       [ 0.64990225, -0.94639622],\n",
       "       [-2.52058621, -0.79927671],\n",
       "       [-0.84032733, -0.39957805],\n",
       "       [ 0.47085075, -1.29988703],\n",
       "       [-0.05266306, -0.28597523],\n",
       "       [ 2.55362035,  1.47020518],\n",
       "       [ 0.16700388,  0.64766779],\n",
       "       [ 0.66690087, -1.69722136],\n",
       "       [ 0.79826007,  0.32131879],\n",
       "       [ 1.25770038,  0.28567511],\n",
       "       [ 0.96934415,  0.72393407],\n",
       "       [ 0.2790123 ,  1.38071339],\n",
       "       [ 1.00083964, -0.16211856],\n",
       "       [ 1.58371594, -0.77375583],\n",
       "       [-0.12192925,  0.7677241 ],\n",
       "       [-0.99178872, -0.56580729],\n",
       "       [ 0.06987776,  0.39409488],\n",
       "       [-0.18621581,  0.83401247],\n",
       "       [ 1.49407709,  0.44151646],\n",
       "       [-0.49526079,  1.24441748],\n",
       "       [-1.16722119, -0.17479695],\n",
       "       [-0.96737395,  1.56484505],\n",
       "       [ 0.52670711,  0.61611002],\n",
       "       [ 0.85278078,  0.32050739],\n",
       "       [ 1.15170337, -1.97824976],\n",
       "       [-1.83623652, -0.06465399],\n",
       "       [-2.03354812, -1.23673181],\n",
       "       [-0.76279132,  0.81148586],\n",
       "       [ 0.30142563,  1.10875273],\n",
       "       [-0.26708853,  0.67526483],\n",
       "       [ 0.32911441, -0.28324639],\n",
       "       [ 0.67785873, -1.96401482],\n",
       "       [-1.04283415,  1.48978554],\n",
       "       [-1.87683848,  0.80851569],\n",
       "       [ 0.52989188,  0.37409715],\n",
       "       [ 0.58138975, -0.49332615],\n",
       "       [-0.27655924, -0.93315301],\n",
       "       [-2.25385745,  1.70119253],\n",
       "       [ 0.11640725, -0.05158824],\n",
       "       [-0.73668288, -0.04323687],\n",
       "       [ 1.6727529 ,  1.61076675],\n",
       "       [ 0.04377548, -1.24411177],\n",
       "       [-0.61154669,  1.84355891],\n",
       "       [-1.94566121, -0.70672462],\n",
       "       [-1.64311923,  0.2169543 ],\n",
       "       [-0.09935588, -1.1848348 ],\n",
       "       [ 0.18121137, -0.34078506],\n",
       "       [ 1.41886828, -1.85082654],\n",
       "       [-1.07552383, -0.33500394],\n",
       "       [ 0.35384373,  0.0454252 ],\n",
       "       [ 0.69522481,  0.59352663],\n",
       "       [-0.42006459, -1.40192216],\n",
       "       [ 0.51918476, -0.30462387],\n",
       "       [ 2.49736783, -1.07954497],\n",
       "       [-0.60041875,  0.72357612],\n",
       "       [ 1.41775013,  1.54420522],\n",
       "       [ 0.98985348, -0.09614182],\n",
       "       [-0.30991841,  1.23452959],\n",
       "       [ 0.70425411, -1.02475138],\n",
       "       [ 0.67753877,  1.35020414],\n",
       "       [ 1.28886627, -0.4023563 ],\n",
       "       [-1.12921656, -0.14215925],\n",
       "       [ 1.02617193, -0.00957781],\n",
       "       [-0.56574734, -0.42823398],\n",
       "       [ 0.19416624,  0.90387925],\n",
       "       [ 1.03299791,  0.79749561],\n",
       "       [ 0.26407288, -0.93748063],\n",
       "       [-0.11852104, -0.89001013],\n",
       "       [ 0.458703  ,  0.45180136]])"
      ]
     },
     "execution_count": 8,
     "metadata": {},
     "output_type": "execute_result"
    }
   ],
   "source": [
    "X"
   ]
  },
  {
   "cell_type": "code",
   "execution_count": 9,
   "id": "f5f33cf9",
   "metadata": {},
   "outputs": [],
   "source": [
    "from sklearn.model_selection import train_test_split\n",
    "X_train,X_test,y_train,y_test=train_test_split(X,y,test_size=0.2,random_state=20)"
   ]
  },
  {
   "cell_type": "code",
   "execution_count": 10,
   "id": "44a72622",
   "metadata": {},
   "outputs": [],
   "source": [
    "from sklearn.linear_model import LinearRegression"
   ]
  },
  {
   "cell_type": "code",
   "execution_count": 11,
   "id": "0f3937f7",
   "metadata": {},
   "outputs": [],
   "source": [
    "lr=LinearRegression()"
   ]
  },
  {
   "cell_type": "code",
   "execution_count": 12,
   "id": "e78b72d7",
   "metadata": {},
   "outputs": [
    {
     "data": {
      "text/html": [
       "<style>#sk-container-id-1 {color: black;background-color: white;}#sk-container-id-1 pre{padding: 0;}#sk-container-id-1 div.sk-toggleable {background-color: white;}#sk-container-id-1 label.sk-toggleable__label {cursor: pointer;display: block;width: 100%;margin-bottom: 0;padding: 0.3em;box-sizing: border-box;text-align: center;}#sk-container-id-1 label.sk-toggleable__label-arrow:before {content: \"▸\";float: left;margin-right: 0.25em;color: #696969;}#sk-container-id-1 label.sk-toggleable__label-arrow:hover:before {color: black;}#sk-container-id-1 div.sk-estimator:hover label.sk-toggleable__label-arrow:before {color: black;}#sk-container-id-1 div.sk-toggleable__content {max-height: 0;max-width: 0;overflow: hidden;text-align: left;background-color: #f0f8ff;}#sk-container-id-1 div.sk-toggleable__content pre {margin: 0.2em;color: black;border-radius: 0.25em;background-color: #f0f8ff;}#sk-container-id-1 input.sk-toggleable__control:checked~div.sk-toggleable__content {max-height: 200px;max-width: 100%;overflow: auto;}#sk-container-id-1 input.sk-toggleable__control:checked~label.sk-toggleable__label-arrow:before {content: \"▾\";}#sk-container-id-1 div.sk-estimator input.sk-toggleable__control:checked~label.sk-toggleable__label {background-color: #d4ebff;}#sk-container-id-1 div.sk-label input.sk-toggleable__control:checked~label.sk-toggleable__label {background-color: #d4ebff;}#sk-container-id-1 input.sk-hidden--visually {border: 0;clip: rect(1px 1px 1px 1px);clip: rect(1px, 1px, 1px, 1px);height: 1px;margin: -1px;overflow: hidden;padding: 0;position: absolute;width: 1px;}#sk-container-id-1 div.sk-estimator {font-family: monospace;background-color: #f0f8ff;border: 1px dotted black;border-radius: 0.25em;box-sizing: border-box;margin-bottom: 0.5em;}#sk-container-id-1 div.sk-estimator:hover {background-color: #d4ebff;}#sk-container-id-1 div.sk-parallel-item::after {content: \"\";width: 100%;border-bottom: 1px solid gray;flex-grow: 1;}#sk-container-id-1 div.sk-label:hover label.sk-toggleable__label {background-color: #d4ebff;}#sk-container-id-1 div.sk-serial::before {content: \"\";position: absolute;border-left: 1px solid gray;box-sizing: border-box;top: 0;bottom: 0;left: 50%;z-index: 0;}#sk-container-id-1 div.sk-serial {display: flex;flex-direction: column;align-items: center;background-color: white;padding-right: 0.2em;padding-left: 0.2em;position: relative;}#sk-container-id-1 div.sk-item {position: relative;z-index: 1;}#sk-container-id-1 div.sk-parallel {display: flex;align-items: stretch;justify-content: center;background-color: white;position: relative;}#sk-container-id-1 div.sk-item::before, #sk-container-id-1 div.sk-parallel-item::before {content: \"\";position: absolute;border-left: 1px solid gray;box-sizing: border-box;top: 0;bottom: 0;left: 50%;z-index: -1;}#sk-container-id-1 div.sk-parallel-item {display: flex;flex-direction: column;z-index: 1;position: relative;background-color: white;}#sk-container-id-1 div.sk-parallel-item:first-child::after {align-self: flex-end;width: 50%;}#sk-container-id-1 div.sk-parallel-item:last-child::after {align-self: flex-start;width: 50%;}#sk-container-id-1 div.sk-parallel-item:only-child::after {width: 0;}#sk-container-id-1 div.sk-dashed-wrapped {border: 1px dashed gray;margin: 0 0.4em 0.5em 0.4em;box-sizing: border-box;padding-bottom: 0.4em;background-color: white;}#sk-container-id-1 div.sk-label label {font-family: monospace;font-weight: bold;display: inline-block;line-height: 1.2em;}#sk-container-id-1 div.sk-label-container {text-align: center;}#sk-container-id-1 div.sk-container {/* jupyter's `normalize.less` sets `[hidden] { display: none; }` but bootstrap.min.css set `[hidden] { display: none !important; }` so we also need the `!important` here to be able to override the default hidden behavior on the sphinx rendered scikit-learn.org. See: https://github.com/scikit-learn/scikit-learn/issues/21755 */display: inline-block !important;position: relative;}#sk-container-id-1 div.sk-text-repr-fallback {display: none;}</style><div id=\"sk-container-id-1\" class=\"sk-top-container\"><div class=\"sk-text-repr-fallback\"><pre>LinearRegression()</pre><b>In a Jupyter environment, please rerun this cell to show the HTML representation or trust the notebook. <br />On GitHub, the HTML representation is unable to render, please try loading this page with nbviewer.org.</b></div><div class=\"sk-container\" hidden><div class=\"sk-item\"><div class=\"sk-estimator sk-toggleable\"><input class=\"sk-toggleable__control sk-hidden--visually\" id=\"sk-estimator-id-1\" type=\"checkbox\" checked><label for=\"sk-estimator-id-1\" class=\"sk-toggleable__label sk-toggleable__label-arrow\">LinearRegression</label><div class=\"sk-toggleable__content\"><pre>LinearRegression()</pre></div></div></div></div></div>"
      ],
      "text/plain": [
       "LinearRegression()"
      ]
     },
     "execution_count": 12,
     "metadata": {},
     "output_type": "execute_result"
    }
   ],
   "source": [
    "lr.fit(X_train,y_train)"
   ]
  },
  {
   "cell_type": "code",
   "execution_count": 13,
   "id": "bf6fb45d",
   "metadata": {},
   "outputs": [],
   "source": [
    "y_pred = lr.predict(X_test)"
   ]
  },
  {
   "cell_type": "code",
   "execution_count": 14,
   "id": "fa07343e",
   "metadata": {},
   "outputs": [
    {
     "name": "stdout",
     "output_type": "stream",
     "text": [
      "MAE 18.88978018350236\n",
      "MSE 536.7224398134683\n",
      "r2 -0.0741552625922961\n"
     ]
    }
   ],
   "source": [
    "print('MAE',mean_absolute_error(y_test,y_pred))\n",
    "print('MSE',mean_squared_error(y_test,y_pred))\n",
    "print('r2',r2_score(y_test,y_pred))"
   ]
  },
  {
   "cell_type": "code",
   "execution_count": 15,
   "id": "133d274b",
   "metadata": {},
   "outputs": [
    {
     "data": {
      "text/plain": [
       "array([1.59483678, 7.08132013])"
      ]
     },
     "execution_count": 15,
     "metadata": {},
     "output_type": "execute_result"
    }
   ],
   "source": [
    "lr.coef_"
   ]
  },
  {
   "cell_type": "code",
   "execution_count": 16,
   "id": "3146c14c",
   "metadata": {},
   "outputs": [
    {
     "data": {
      "text/plain": [
       "2.8679287691116455"
      ]
     },
     "execution_count": 16,
     "metadata": {},
     "output_type": "execute_result"
    }
   ],
   "source": [
    "lr.intercept_"
   ]
  },
  {
   "cell_type": "code",
   "execution_count": null,
   "id": "e5dc897a",
   "metadata": {},
   "outputs": [],
   "source": []
  }
 ],
 "metadata": {
  "kernelspec": {
   "display_name": "Python 3 (ipykernel)",
   "language": "python",
   "name": "python3"
  },
  "language_info": {
   "codemirror_mode": {
    "name": "ipython",
    "version": 3
   },
   "file_extension": ".py",
   "mimetype": "text/x-python",
   "name": "python",
   "nbconvert_exporter": "python",
   "pygments_lexer": "ipython3",
   "version": "3.9.12"
  }
 },
 "nbformat": 4,
 "nbformat_minor": 5
}
